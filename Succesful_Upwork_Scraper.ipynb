{
 "cells": [
  {
   "cell_type": "code",
   "execution_count": null,
   "id": "9875b661",
   "metadata": {},
   "outputs": [],
   "source": [
    "from selenium import webdriver\n",
    "from selenium.webdriver.chrome.options import Options\n",
    "from selenium.webdriver.common.action_chains import ActionChains\n",
    "from selenium.webdriver.support.ui import WebDriverWait\n",
    "from selenium.webdriver.support import expected_conditions as EC\n",
    "from selenium.webdriver.common.by import By\n",
    "from selenium.webdriver.support.ui import Select\n",
    "import time\n",
    "import csv\n",
    "import re\n",
    "from csv import writer"
   ]
  },
  {
   "cell_type": "code",
   "execution_count": null,
   "id": "3542d52e",
   "metadata": {},
   "outputs": [],
   "source": [
    "chrome_options = Options()\n",
    "# chrome_options.add_argument(\"--incognito\")\n",
    "chrome_options.add_argument(\"--window-size=1920x1080\")\n",
    "chrome_options.add_argument(\"--start-maximized\")\n",
    "chrome_options.add_argument('--ignore-ssl-errors=yes')\n",
    "chrome_options.add_argument('--ignore-certificate-errors')\n",
    "# chrome_options.add_argument('--user-data-dir=C:/Users/Acer/AppData/Local/Google/Chrome/User Data')\n",
    "# chrome_options.add_argument('--profile-directory=Profile 1'),\n",
    "# chrome_options.add_argument('--headless')"
   ]
  },
  {
   "cell_type": "code",
   "execution_count": null,
   "id": "18aae01c",
   "metadata": {},
   "outputs": [],
   "source": [
    "print('Enter keyword: ')\n",
    "keyword = input()\n"
   ]
  },
  {
   "cell_type": "code",
   "execution_count": null,
   "id": "1cf7ac9c",
   "metadata": {},
   "outputs": [],
   "source": [
    "url = f'https://www.upwork.com/nx/jobs/search/?q={keyword}&sort=recency'"
   ]
  },
  {
   "cell_type": "code",
   "execution_count": null,
   "id": "22e37866",
   "metadata": {},
   "outputs": [],
   "source": [
    "driver = webdriver.Chrome(options=chrome_options)\n",
    "\n",
    "driver.get(url)\n",
    "time.sleep(2)"
   ]
  },
  {
   "cell_type": "code",
   "execution_count": null,
   "id": "52db290a",
   "metadata": {},
   "outputs": [],
   "source": [
    "counter = 0\n",
    "\n",
    "# Open the CSV file in append mode ('a') to continue writing to the existing file\n",
    "with open('Upwork_job_data.csv', 'a', newline='') as fd:\n",
    "    csv_writer = writer(fd, delimiter=\",\")\n",
    "\n",
    "    # Write the title row\n",
    "    csv_writer.writerow(['Job Title', 'Job Type', 'experienceLevel', 'job skills','Hours Needed'])\n",
    "\n",
    "    while True:\n",
    "        # Wait for the content to be loaded, if necessary\n",
    "        # WebDriverWait(driver, 20).until(EC.visibility_of_element_located((By.CSS_SELECTOR, \"h3[class='my-0 p-sm-right job-tile-title'] > a\"))\n",
    "\n",
    "        # Find the \"Next\" button element\n",
    "        nextButton = driver.find_elements(By.XPATH, \"//button[contains(@class, 'up-pagination-item')]/div[contains(@class, 'next-icon')]\")\n",
    "\n",
    "        # Write data to the CSV\n",
    "        jobTitle = driver.find_elements(By.XPATH, \"//h2[@class='my-0 p-sm-right job-tile-title']/a\")\n",
    "        jobType = driver.find_elements(By.XPATH, \"//strong[@data-test='job-type']\")\n",
    "        experienceLevel = driver.find_elements(By.XPATH, \"//div[@class='col-6 mb-10']/strong[@data-test='contractor-tier']\")\n",
    "        skills_needed = driver.find_elements(By.XPATH, \"//div[@class='up-skill-wrapper']\")\n",
    "        hoursNeeded = driver.find_elements(By.XPATH, \"//div[@class='col-6 mb-10']/strong[@data-test='workload']\")\n",
    "\n",
    "        for el in range(len(jobTitle)):\n",
    "            title = jobTitle[el].text if el < len(jobTitle) else 'N/A'\n",
    "            job_type = jobType[el].text if el < len(jobType) else 'N/A'\n",
    "            exp_level = experienceLevel[el].text if el < len(experienceLevel) else 'N/A'\n",
    "            job_skills = skills_needed[el].text if len(skills_needed) > el else 'N/A'\n",
    "            hours = hoursNeeded[el].text if len(hoursNeeded) > el else 'N/A'\n",
    "            \n",
    "            csv_writer.writerow([title, job_type, exp_level,job_skills, hours])\n",
    "\n",
    "        # If the \"Next\" button is not found, exit the loop\n",
    "        if not nextButton:\n",
    "            break\n",
    "\n",
    "        # Click the \"Next\" button to navigate to the next page\n",
    "        nextButton[0].click()\n",
    "        time.sleep(2)\n",
    "\n",
    "        counter += 1\n",
    "        print('page: ' + str(counter))\n"
   ]
  },
  {
   "cell_type": "code",
   "execution_count": null,
   "id": "9870c251",
   "metadata": {},
   "outputs": [],
   "source": []
  },
  {
   "cell_type": "code",
   "execution_count": null,
   "id": "763f8e2a",
   "metadata": {},
   "outputs": [],
   "source": []
  },
  {
   "cell_type": "code",
   "execution_count": null,
   "id": "a5d68bdf",
   "metadata": {},
   "outputs": [],
   "source": []
  }
 ],
 "metadata": {
  "kernelspec": {
   "display_name": "Python 3 (ipykernel)",
   "language": "python",
   "name": "python3"
  },
  "language_info": {
   "codemirror_mode": {
    "name": "ipython",
    "version": 3
   },
   "file_extension": ".py",
   "mimetype": "text/x-python",
   "name": "python",
   "nbconvert_exporter": "python",
   "pygments_lexer": "ipython3",
   "version": "3.11.3"
  }
 },
 "nbformat": 4,
 "nbformat_minor": 5
}
