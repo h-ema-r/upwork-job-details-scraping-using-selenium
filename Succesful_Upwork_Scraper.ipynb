{
 "cells": [
  {
   "cell_type": "code",
   "execution_count": 1,
   "id": "9875b661",
   "metadata": {},
   "outputs": [],
   "source": [
    "from selenium import webdriver\n",
    "from selenium.webdriver.chrome.options import Options\n",
    "from selenium.webdriver.common.action_chains import ActionChains\n",
    "from selenium.webdriver.support.ui import WebDriverWait\n",
    "from selenium.webdriver.support import expected_conditions as EC\n",
    "from selenium.webdriver.common.by import By\n",
    "from selenium.webdriver.support.ui import Select\n",
    "import time\n",
    "import csv\n",
    "import re\n",
    "from csv import writer"
   ]
  },
  {
   "cell_type": "code",
   "execution_count": 2,
   "id": "3542d52e",
   "metadata": {},
   "outputs": [],
   "source": [
    "chrome_options = Options()\n",
    "# chrome_options.add_argument(\"--incognito\")\n",
    "chrome_options.add_argument(\"--window-size=1920x1080\")\n",
    "chrome_options.add_argument(\"--start-maximized\")\n",
    "chrome_options.add_argument('--ignore-ssl-errors=yes')\n",
    "chrome_options.add_argument('--ignore-certificate-errors')\n",
    "# chrome_options.add_argument('--user-data-dir=C:/Users/Acer/AppData/Local/Google/Chrome/User Data')\n",
    "# chrome_options.add_argument('--profile-directory=Profile 1'),\n",
    "# chrome_options.add_argument('--headless')"
   ]
  },
  {
   "cell_type": "code",
   "execution_count": 3,
   "id": "18aae01c",
   "metadata": {},
   "outputs": [
    {
     "name": "stdout",
     "output_type": "stream",
     "text": [
      "Enter keyword: \n",
      "Latest jobs\n"
     ]
    }
   ],
   "source": [
    "print('Enter keyword: ')\n",
    "keyword = input()\n"
   ]
  },
  {
   "cell_type": "code",
   "execution_count": 4,
   "id": "1cf7ac9c",
   "metadata": {},
   "outputs": [],
   "source": [
    "url = f'https://www.upwork.com/nx/jobs/search/?q={keyword}&sort=recency'"
   ]
  },
  {
   "cell_type": "code",
   "execution_count": 5,
   "id": "22e37866",
   "metadata": {},
   "outputs": [],
   "source": [
    "driver = webdriver.Chrome(options=chrome_options)\n",
    "\n",
    "driver.get(url)\n",
    "time.sleep(2)"
   ]
  },
  {
   "cell_type": "code",
   "execution_count": 6,
   "id": "d9a73b57",
   "metadata": {},
   "outputs": [
    {
     "name": "stdout",
     "output_type": "stream",
     "text": [
      "page: 1\n",
      "page: 2\n",
      "page: 3\n",
      "page: 4\n",
      "page: 5\n",
      "page: 6\n",
      "page: 7\n",
      "page: 8\n",
      "page: 9\n",
      "page: 10\n",
      "page: 11\n",
      "page: 12\n",
      "page: 13\n",
      "page: 14\n",
      "page: 15\n"
     ]
    },
    {
     "ename": "UnicodeEncodeError",
     "evalue": "'charmap' codec can't encode characters in position 0-1: character maps to <undefined>",
     "output_type": "error",
     "traceback": [
      "\u001b[1;31m---------------------------------------------------------------------------\u001b[0m",
      "\u001b[1;31mUnicodeEncodeError\u001b[0m                        Traceback (most recent call last)",
      "Cell \u001b[1;32mIn[6], line 31\u001b[0m\n\u001b[0;32m     28\u001b[0m     job_skills \u001b[38;5;241m=\u001b[39m skills_needed[el]\u001b[38;5;241m.\u001b[39mtext \u001b[38;5;28;01mif\u001b[39;00m \u001b[38;5;28mlen\u001b[39m(skills_needed) \u001b[38;5;241m>\u001b[39m el \u001b[38;5;28;01melse\u001b[39;00m \u001b[38;5;124m'\u001b[39m\u001b[38;5;124mN/A\u001b[39m\u001b[38;5;124m'\u001b[39m\n\u001b[0;32m     29\u001b[0m     hours \u001b[38;5;241m=\u001b[39m hoursNeeded[el]\u001b[38;5;241m.\u001b[39mtext \u001b[38;5;28;01mif\u001b[39;00m \u001b[38;5;28mlen\u001b[39m(hoursNeeded) \u001b[38;5;241m>\u001b[39m el \u001b[38;5;28;01melse\u001b[39;00m \u001b[38;5;124m'\u001b[39m\u001b[38;5;124mN/A\u001b[39m\u001b[38;5;124m'\u001b[39m\n\u001b[1;32m---> 31\u001b[0m     csv_writer\u001b[38;5;241m.\u001b[39mwriterow([title, job_type, exp_level,job_skills, hours])\n\u001b[0;32m     33\u001b[0m \u001b[38;5;66;03m# If the \"Next\" button is not found, exit the loop\u001b[39;00m\n\u001b[0;32m     34\u001b[0m \u001b[38;5;28;01mif\u001b[39;00m \u001b[38;5;129;01mnot\u001b[39;00m nextButton:\n",
      "File \u001b[1;32mC:\\ProgramData\\anaconda3\\Lib\\encodings\\cp1252.py:19\u001b[0m, in \u001b[0;36mIncrementalEncoder.encode\u001b[1;34m(self, input, final)\u001b[0m\n\u001b[0;32m     18\u001b[0m \u001b[38;5;28;01mdef\u001b[39;00m \u001b[38;5;21mencode\u001b[39m(\u001b[38;5;28mself\u001b[39m, \u001b[38;5;28minput\u001b[39m, final\u001b[38;5;241m=\u001b[39m\u001b[38;5;28;01mFalse\u001b[39;00m):\n\u001b[1;32m---> 19\u001b[0m     \u001b[38;5;28;01mreturn\u001b[39;00m codecs\u001b[38;5;241m.\u001b[39mcharmap_encode(\u001b[38;5;28minput\u001b[39m,\u001b[38;5;28mself\u001b[39m\u001b[38;5;241m.\u001b[39merrors,encoding_table)[\u001b[38;5;241m0\u001b[39m]\n",
      "\u001b[1;31mUnicodeEncodeError\u001b[0m: 'charmap' codec can't encode characters in position 0-1: character maps to <undefined>"
     ]
    }
   ],
   "source": [
    "counter = 0\n",
    "\n",
    "# Open the CSV file in append mode ('a') to continue writing to the existing file\n",
    "with open('Upwork_job_data.csv', 'a', newline='') as fd:\n",
    "    csv_writer = writer(fd, delimiter=\",\")\n",
    "\n",
    "    # Write the title row\n",
    "    csv_writer.writerow(['Job Title', 'Job Type', 'experienceLevel', 'job skills','Hours Needed'])\n",
    "\n",
    "    while True:\n",
    "        # Wait for the content to be loaded, if necessary\n",
    "        # WebDriverWait(driver, 20).until(EC.visibility_of_element_located((By.CSS_SELECTOR, \"h3[class='my-0 p-sm-right job-tile-title'] > a\"))\n",
    "\n",
    "        # Find the \"Next\" button element\n",
    "        nextButton = driver.find_elements(By.XPATH, \"//button[contains(@class, 'up-pagination-item')]/div[contains(@class, 'next-icon')]\")\n",
    "\n",
    "        # Write data to the CSV\n",
    "        jobTitle = driver.find_elements(By.XPATH, \"//h2[@class='my-0 p-sm-right job-tile-title']/a\")\n",
    "        jobType = driver.find_elements(By.XPATH, \"//strong[@data-test='job-type']\")\n",
    "        experienceLevel = driver.find_elements(By.XPATH, \"//div[@class='col-6 mb-10']/strong[@data-test='contractor-tier']\")\n",
    "        skills_needed = driver.find_elements(By.XPATH, \"//div[@class='up-skill-wrapper']\")\n",
    "        hoursNeeded = driver.find_elements(By.XPATH, \"//div[@class='col-6 mb-10']/strong[@data-test='workload']\")\n",
    "\n",
    "        for el in range(len(jobTitle)):\n",
    "            title = jobTitle[el].text if el < len(jobTitle) else 'N/A'\n",
    "            job_type = jobType[el].text if el < len(jobType) else 'N/A'\n",
    "            exp_level = experienceLevel[el].text if el < len(experienceLevel) else 'N/A'\n",
    "            job_skills = skills_needed[el].text if len(skills_needed) > el else 'N/A'\n",
    "            hours = hoursNeeded[el].text if len(hoursNeeded) > el else 'N/A'\n",
    "            \n",
    "            csv_writer.writerow([title, job_type, exp_level,job_skills, hours])\n",
    "\n",
    "        # If the \"Next\" button is not found, exit the loop\n",
    "        if not nextButton:\n",
    "            break\n",
    "\n",
    "        # Click the \"Next\" button to navigate to the next page\n",
    "        nextButton[0].click()\n",
    "        time.sleep(2)\n",
    "\n",
    "        counter += 1\n",
    "        print('page: ' + str(counter))\n"
   ]
  },
  {
   "cell_type": "code",
   "execution_count": null,
   "id": "52db290a",
   "metadata": {},
   "outputs": [],
   "source": []
  },
  {
   "cell_type": "code",
   "execution_count": null,
   "id": "9870c251",
   "metadata": {},
   "outputs": [],
   "source": []
  },
  {
   "cell_type": "code",
   "execution_count": null,
   "id": "763f8e2a",
   "metadata": {},
   "outputs": [],
   "source": []
  },
  {
   "cell_type": "code",
   "execution_count": null,
   "id": "a5d68bdf",
   "metadata": {},
   "outputs": [],
   "source": []
  }
 ],
 "metadata": {
  "kernelspec": {
   "display_name": "Python 3 (ipykernel)",
   "language": "python",
   "name": "python3"
  },
  "language_info": {
   "codemirror_mode": {
    "name": "ipython",
    "version": 3
   },
   "file_extension": ".py",
   "mimetype": "text/x-python",
   "name": "python",
   "nbconvert_exporter": "python",
   "pygments_lexer": "ipython3",
   "version": "3.11.3"
  }
 },
 "nbformat": 4,
 "nbformat_minor": 5
}
